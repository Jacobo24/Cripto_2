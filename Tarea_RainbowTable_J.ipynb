{
 "cells": [
  {
   "cell_type": "markdown",
   "id": "6c45b29d",
   "metadata": {},
   "source": [
    "# Tarea: Ataque con Rainbow Tables a MD5\n",
    "\n",
    "**Asignatura:** Criptografía (3.º Ingeniería Matemática)  \n",
    "**Objetivo general:** Investigar y experimentar con ataques a la integridad de contraseñas basados en rainbow tables aplicados al algoritmo MD5.\n",
    "\n",
    "---\n",
    "\n",
    "## Enunciado\n",
    "\n",
    "### Contexto  \n",
    "Las rainbow tables son una técnica de pre‑cómputo que permite invertir funciones hash (como MD5) a costa de memoria adicional. En esta práctica, limitaremos el espacio de contraseñas a todas las cadenas de 4 dígitos (`\"0000\"`–`\"9999\"`) para atacar un hash objetivo y detectar colisiones.\n",
    "\n",
    "### Pasos de la práctica\n",
    "\n",
    "1. **Construcción de la Rainbow Table**  \n",
    "   - Para cada contraseña de 4 dígitos, generar una **cadena de transformación** de longitud 4:  \n",
    "     1. Calcular MD5 del valor actual.  \n",
    "     2. Reducir (usando los primeros 8 dígitos del hash + número de ronda) a un número 0000–9999.  \n",
    "   - Almacenar en un diccionario `{ endpoint → contraseña_inicial }`.  \n",
    "   - Documentar en el informe cuántas entradas hay y si surgieron colisiones en el endpoint durante el pre‑cómputo.\n",
    "\n",
    "2. **Obtención del Hash Objetivo y Generación de la Cadena del Target**  \n",
    "   - Elegir una contraseña real.  \n",
    "   - Calcular su cadena de transformación y anotar el **endpoint**.\n",
    "\n",
    "3. **Búsqueda en la Rainbow Table**  \n",
    "   - Buscar ese endpoint en la tabla pre‑computada.  \n",
    "   - **Detectar colisiones y falso positivo**.\n",
    "\n",
    "4. **Verificación y Análisis de Colisiones**  \n",
    "\n",
    "### Entregables - El trabajo se realizará sobre esta misma plantilla de forma individual\n",
    "\n",
    "1. **Informe Markdown y código Python** que incluya:    \n",
    "   - Código Python completo y comentado.  \n",
    "   - Discusión de resultados y conclusiones.\n",
    "   - Tener ejecutada todas las celdas para facilitar su correción\n",
    "\n",
    "\n",
    "---\n",
    "\n",
    "## Rúbrica de Evaluación\n",
    "\n",
    "| Descriptor                    | Insuficiente (1–3)                                                                                                   | Satisfactorio (4–7)                                                                                                                                       | Sobresaliente (8–10)                                                                                                                                            |\n",
    "|-------------------------------|-----------------------------------------------------------------------------------------------------------------------|-----------------------------------------------------------------------------------------------------------------------------------------------------------|-----------------------------------------------------------------------------------------------------------------------------------------------------------------|\n",
    "| **1. Comprensión teórica**    | Conceptos de rainbow tables y MD5 confusos o erróneos; no identifica correctamente colisiones ni trade‑off tiempo/memoria. | Define correctamente rainbow tables y MD5; explica los pasos del ataque; menciona colisiones, aunque con vacíos conceptuales.                               | Explica con claridad y profundidad los conceptos: Merkle–Damgård, función de reducción, colisiones, trade‑off; aporta referencias y ejemplos adicionales.        |\n",
    "| **2. Implementación práctica**| Código incompleto, sin comentarios o con errores que impiden la ejecución; no muestra pasos en pantalla.               | Código funcional que genera la tabla y ataca el hash; incluye comentarios básicos y muestra salidas por pantalla.                                          | Código muy bien estructurado y documentado; usa funciones reutilizables; muestra interactivamente cada paso con mensajes claros y capturas o gráficos si procede. |\n",
    "| **3. Análisis de resultados** | Informe sin discusión de resultados, o conclusiones equivocadas; no detecta ni explica colisiones.                   | Presenta resultados de forma clara; detecta colisiones y ofrece una breve reflexión sobre sus causas.                                                    | Análisis crítico y profundo: cuantifica colisiones, compara tasas de éxito, discute cómo ampliaría el espacio o usaría salt para mitigar ataques; propone mejoras. |\n",
    "\n",
    "---\n",
    "**Fecha de entrega:** 13 de mayo  \n",
    "**Formato:** Markdown + código  (Notebook Jupyter)\n",
    "**Peso en la nota final:** 20% de la evaluación de la asignatura en su parte ordinaria (40%) \n"
   ]
  },
  {
   "cell_type": "markdown",
   "id": "15da3fa8",
   "metadata": {},
   "source": [
    "# Notebook: Implementación de Rainbow Tables\n"
   ]
  },
  {
   "cell_type": "markdown",
   "id": "ef614528",
   "metadata": {},
   "source": [
    "## Importación de librerías\n",
    "\n",
    "En esta sección importamos las librerías necesarias para:\n",
    "- Cálculo de hashes MD5\n",
    "- Medición de tiempos de ejecución\n",
    "- Generación de productos cartesianos para contraseñas\n",
    "- Manipulación de datos con Pandas\n",
    "- Visualización con Matplotlib\n",
    "- Ejecución de pruebas unitarias con unittest\n"
   ]
  },
  {
   "cell_type": "code",
   "execution_count": 15,
   "id": "0bac6eae",
   "metadata": {},
   "outputs": [],
   "source": [
    "import hashlib\n",
    "import time\n",
    "from itertools import product\n",
    "import pandas as pd\n",
    "import matplotlib.pyplot as plt\n",
    "import unittest"
   ]
  },
  {
   "cell_type": "markdown",
   "id": "32c581f4",
   "metadata": {},
   "source": [
    "## 1. Definición de funciones principales\n",
    "\n",
    "A continuación definimos las funciones que constituyen la lógica de las rainbow tables:\n",
    "\n",
    "1. `md5_hash(s)` - Calcula el hash MD5 de una cadena.\n",
    "2. `reduction(hash_value, position, charset, length)` - Función de reducción que mapea un hash a una posible contraseña.\n",
    "3. `generate_chain(start_pwd, chain_length, charset, pwd_length)` - Genera un endpoint de cadena comenzando desde una contraseña.\n",
    "4. `generate_table(chain_length, charset, pwd_length)` - Construye la rainbow table (endpoint → startpoint).\n",
    "5. `search_hash(target_hash, table, chain_length, charset, pwd_length)` - Busca la contraseña original usando la tabla y, si falla, fuerza bruta completa.\n"
   ]
  },
  {
   "cell_type": "code",
   "execution_count": 16,
   "id": "c009d848",
   "metadata": {},
   "outputs": [],
   "source": [
    "# Funciones principales\n",
    "def md5_hash(s):\n",
    "    \"\"\"Calcula el hash MD5 de la cadena de entrada.\"\"\"\n",
    "    return hashlib.md5(s.encode()).hexdigest()\n",
    "\n",
    "\n",
    "def reduction(hash_value, position, charset, length):\n",
    "    \"\"\"Función de reducción: mapea un hash a una posible contraseña.\"\"\"\n",
    "    num = int(hash_value, 16) + position\n",
    "    pwd = ''\n",
    "    base = len(charset)\n",
    "    for _ in range(length):\n",
    "        pwd += charset[num % base]\n",
    "        num //= base\n",
    "    return pwd\n",
    "\n",
    "\n",
    "def generate_chain(start_pwd, chain_length, charset, pwd_length):\n",
    "    \"\"\"Genera el endpoint de la cadena a partir de la contraseña inicial.\"\"\"\n",
    "    pwd = start_pwd\n",
    "    for pos in range(chain_length):\n",
    "        h = md5_hash(pwd)\n",
    "        pwd = reduction(h, pos, charset, pwd_length)\n",
    "    return pwd\n",
    "\n",
    "\n",
    "def generate_table(chain_length, charset, pwd_length):\n",
    "    \"\"\"Genera la rainbow table: diccionario endpoint -> startpoint.\"\"\"\n",
    "    table = {}\n",
    "    for pwd_tuple in product(charset, repeat=pwd_length):\n",
    "        start = ''.join(pwd_tuple)\n",
    "        end = generate_chain(start, chain_length, charset, pwd_length)\n",
    "        table[end] = start\n",
    "    return table\n",
    "\n",
    "\n",
    "def search_hash(target_hash, table, chain_length, charset, pwd_length):\n",
    "    \"\"\"Busca la contraseña original a partir de su hash usando la rainbow table y fallback completo.\"\"\"\n",
    "    # Paso Hellman: reconstrucción parcial\n",
    "    for pos in reversed(range(chain_length)):\n",
    "        h = target_hash\n",
    "        pwd = None\n",
    "        for p in range(pos, chain_length):\n",
    "            pwd = reduction(h, p, charset, pwd_length)\n",
    "            h = md5_hash(pwd)\n",
    "        if pwd in table:\n",
    "            start = table[pwd]\n",
    "            pwd_tmp = start\n",
    "            for p in range(chain_length):\n",
    "                h_tmp = md5_hash(pwd_tmp)\n",
    "                if h_tmp == target_hash:\n",
    "                    return pwd_tmp\n",
    "                pwd_tmp = reduction(h_tmp, p, charset, pwd_length)\n",
    "    # Fallback exhaustivo: fuerza bruta en espacio limitado\n",
    "    for guess_tuple in product(charset, repeat=pwd_length):\n",
    "        guess = ''.join(guess_tuple)\n",
    "        if md5_hash(guess) == target_hash:\n",
    "            return guess\n",
    "    return None"
   ]
  },
  {
   "cell_type": "markdown",
   "id": "ceb4cabb",
   "metadata": {},
   "source": [
    "## 2. Pruebas unitarias\n",
    "\n",
    "Validamos que las funciones generen y busquen correctamente en espacios pequeños:"
   ]
  },
  {
   "cell_type": "code",
   "execution_count": 18,
   "id": "d76fac3b",
   "metadata": {},
   "outputs": [
    {
     "name": "stderr",
     "output_type": "stream",
     "text": [
      "..\n",
      "----------------------------------------------------------------------\n",
      "Ran 2 tests in 0.005s\n",
      "\n",
      "OK\n"
     ]
    }
   ],
   "source": [
    "def run_tests():\n",
    "    suite = unittest.TestLoader().loadTestsFromTestCase(TestRainbow)\n",
    "    unittest.TextTestRunner().run(suite)\n",
    "\n",
    "class TestRainbow(unittest.TestCase):\n",
    "    def test_chain(self):\n",
    "        charset = 'ab'; pwd_len = 2; chain_len = 5\n",
    "        start = 'aa'\n",
    "        end = generate_chain(start, chain_len, charset, pwd_len)\n",
    "        self.assertTrue(isinstance(end, str) and len(end) == pwd_len)\n",
    "\n",
    "    def test_table_search(self):\n",
    "        charset = 'ab'; pwd_len = 2; chain_len = 5\n",
    "        table = generate_table(chain_len, charset, pwd_len)\n",
    "        for pwd in ['aa', 'ab', 'ba', 'bb']:\n",
    "            h = md5_hash(pwd)\n",
    "            res = search_hash(h, table, chain_len, charset, pwd_len)\n",
    "            self.assertEqual(res, pwd)\n",
    "\n",
    "if __name__ == '__main__':\n",
    "    run_tests()"
   ]
  },
  {
   "cell_type": "markdown",
   "id": "625764d7",
   "metadata": {},
   "source": [
    "## 3. Experimentos de rendimiento\n",
    "\n",
    "Medimos el tiempo medio de búsqueda variando la longitud de cadena (chain_length) para un charset binario de longitud 3."
   ]
  },
  {
   "cell_type": "code",
   "execution_count": 21,
   "id": "a79fa3d2",
   "metadata": {},
   "outputs": [
    {
     "name": "stdout",
     "output_type": "stream",
     "text": [
      "   chain_length  avg_search_time\n",
      "0             5         0.000000\n",
      "1            10         0.000000\n",
      "2            15         0.000199\n"
     ]
    },
    {
     "data": {
      "image/png": "[encoded data removed]",
      "text/plain": [
       "<Figure size 640x480 with 1 Axes>"
      ]
     },
     "metadata": {},
     "output_type": "display_data"
    }
   ],
   "source": [
    "# Experimentos de rendimiento\n",
    "results = []\n",
    "charset = '01'; pwd_length = 3\n",
    "for chain_len in [5, 10, 15]:\n",
    "    table = generate_table(chain_len, charset, pwd_length)\n",
    "    times = []\n",
    "    hashes = [md5_hash(''.join(p)) for p in product(charset, repeat=pwd_length)]\n",
    "    sample = hashes[:5]\n",
    "    for h in sample:\n",
    "        t0 = time.time()\n",
    "        search_hash(h, table, chain_len, charset, pwd_length)\n",
    "        times.append(time.time() - t0)\n",
    "    results.append({'chain_length': chain_len, 'avg_search_time': sum(times)/len(times)})\n",
    "\n",
    "# Mostrar resultados\n",
    "import pandas as pd\n",
    "print(pd.DataFrame(results))\n",
    "\n",
    "# Gráfica de impacto de la longitud de cadena\n",
    "plt.figure()\n",
    "plt.plot([r['chain_length'] for r in results], [r['avg_search_time'] for r in results])\n",
    "plt.xlabel('Longitud de cadena')\n",
    "plt.ylabel('Tiempo medio de búsqueda (s)')\n",
    "plt.title('Impacto de la longitud de cadena en el tiempo de búsqueda')\n",
    "plt.grid(True)\n",
    "plt.show()"
   ]
  }
 ],
 "metadata": {
  "kernelspec": {
   "display_name": "Python 3",
   "language": "python",
   "name": "python3"
  },
  "language_info": {
   "codemirror_mode": {
    "name": "ipython",
    "version": 3
   },
   "file_extension": ".py",
   "mimetype": "text/x-python",
   "name": "python",
   "nbconvert_exporter": "python",
   "pygments_lexer": "ipython3",
   "version": "3.10.11"
  }
 },
 "nbformat": 4,
 "nbformat_minor": 5
}
